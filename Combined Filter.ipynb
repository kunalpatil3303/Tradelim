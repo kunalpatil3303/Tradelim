{
 "cells": [
  {
   "cell_type": "code",
   "execution_count": 3,
   "id": "29654df5-eabb-494a-8694-fb298a735e65",
   "metadata": {},
   "outputs": [
    {
     "name": "stdout",
     "output_type": "stream",
     "text": [
      "Filtered NIFTY 500 Stocks based on conditions:\n",
      "Empty DataFrame\n",
      "Columns: []\n",
      "Index: []\n"
     ]
    }
   ],
   "source": [
    "import pandas as pd\n",
    "import yfinance as yf\n",
    "\n",
    "# Load NIFTY 500 stock symbols\n",
    "nifty_500_symbols = pd.read_csv('https://archives.nseindia.com/content/indices/ind_nifty500list.csv')['Symbol'].tolist()\n",
    "\n",
    "# Function to fetch daily stock data\n",
    "def get_stock_data(symbols):\n",
    "    stock_data = []\n",
    "    for symbol in symbols:\n",
    "        try:\n",
    "            stock = yf.Ticker(symbol + \".NS\")\n",
    "            df = stock.history(period=\"1d\")\n",
    "\n",
    "            if not df.empty:\n",
    "                high, low, close = df['High'].iloc[-1], df['Low'].iloc[-1], df['Close'].iloc[-1]\n",
    "                avg_price = (high + low + close) / 3\n",
    "                mid_price = (high + low) / 2\n",
    "\n",
    "                # Applying your combined condition logic\n",
    "                if close > 100 and (\n",
    "                    (mid_price > avg_price and avg_price + 0.2 > mid_price) or\n",
    "                    ((avg_price * 2 - mid_price > avg_price) and (avg_price + 0.2 > (avg_price * 2 - mid_price)))\n",
    "                ):\n",
    "                    percentage_diff = ((high - low) / low) * 100\n",
    "                    if percentage_diff < 1.0:\n",
    "                        stock_data.append({\n",
    "                            \"symbol\": symbol,\n",
    "                            \"high\": high,\n",
    "                            \"low\": low,\n",
    "                            \"close\": close,\n",
    "                            \"percentage_diff\": percentage_diff\n",
    "                        })\n",
    "        except Exception as e:\n",
    "            print(f\"Error fetching data for {symbol}: {e}\")\n",
    "\n",
    "    return pd.DataFrame(stock_data)\n",
    "\n",
    "# Fetch and filter stocks\n",
    "filtered_stocks = get_stock_data(nifty_500_symbols)\n",
    "\n",
    "# Display results\n",
    "print(\"Filtered NIFTY 500 Stocks based on conditions:\")\n",
    "print(filtered_stocks)\n"
   ]
  }
 ],
 "metadata": {
  "kernelspec": {
   "display_name": "Python 3 (ipykernel)",
   "language": "python",
   "name": "python3"
  },
  "language_info": {
   "codemirror_mode": {
    "name": "ipython",
    "version": 3
   },
   "file_extension": ".py",
   "mimetype": "text/x-python",
   "name": "python",
   "nbconvert_exporter": "python",
   "pygments_lexer": "ipython3",
   "version": "3.12.7"
  }
 },
 "nbformat": 4,
 "nbformat_minor": 5
}
