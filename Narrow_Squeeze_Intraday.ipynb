{
  "nbformat": 4,
  "nbformat_minor": 0,
  "metadata": {
    "colab": {
      "provenance": []
    },
    "kernelspec": {
      "name": "python3",
      "display_name": "Python 3"
    },
    "language_info": {
      "name": "python"
    }
  },
  "cells": [
    {
      "cell_type": "markdown",
      "source": [
        "Run after 9:45am and select stock where within first 5 min candle inside candles are formed till 9:45 am"
      ],
      "metadata": {
        "id": "ryBAX-6NTjk9"
      }
    },
    {
      "cell_type": "code",
      "execution_count": 2,
      "metadata": {
        "colab": {
          "base_uri": "https://localhost:8080/"
        },
        "id": "IsYP9ayR3VCC",
        "outputId": "615ade7c-85d7-4af3-b9bd-6d1205f630a3"
      },
      "outputs": [
        {
          "output_type": "stream",
          "name": "stderr",
          "text": [
            "ERROR:yfinance:$ISEC.NS: possibly delisted; no price data found  (period=1d)\n"
          ]
        },
        {
          "output_type": "stream",
          "name": "stdout",
          "text": [
            "NIFTY 500 Stocks with percentage difference < 0.70%:\n",
            "      symbol         high          low  percentage_diff\n",
            "0  EICHERMOT  5384.899902  5350.049805         0.651398\n",
            "1   HDFCBANK  1836.000000  1823.449951         0.688258\n",
            "2   HDFCLIFE   685.150024   681.400024         0.550338\n",
            "3  ICICIBANK  1341.000000  1331.699951         0.698359\n",
            "4      TITAN  3101.100098  3081.949951         0.621365\n"
          ]
        }
      ],
      "source": [
        "import pandas as pd\n",
        "import yfinance as yf\n",
        "\n",
        "# Load NIFTY 500 stock symbols (you can replace this with an updated list)\n",
        "#nifty_500_symbols = pd.read_excel(\"/content/F&O List.xlsx\")['Symbol'].tolist()\n",
        "nifty_500_symbols = pd.read_csv(\"/content/ind_nifty500list (2).csv\")['Symbol'].tolist()\n",
        "\n",
        "# Function to fetch daily high & low prices\n",
        "def get_stock_data(symbols):\n",
        "    stock_data = []\n",
        "    for symbol in symbols:\n",
        "        try:\n",
        "            stock = yf.Ticker(symbol + \".NS\")  # Adding .NS for NSE stocks\n",
        "            df = stock.history(period=\"1d\")  # Fetching daily data\n",
        "\n",
        "            if not df.empty:\n",
        "                high, low = df['High'].iloc[-1], df['Low'].iloc[-1]\n",
        "                percentage_diff = ((high - low) / low) * 100\n",
        "\n",
        "                if percentage_diff < 0.70:\n",
        "                    stock_data.append({\"symbol\": symbol, \"high\": high, \"low\": low, \"percentage_diff\": percentage_diff})\n",
        "        except Exception as e:\n",
        "            print(f\"Error fetching data for {symbol}: {e}\")\n",
        "\n",
        "    return pd.DataFrame(stock_data)\n",
        "\n",
        "# Fetch and filter stocks\n",
        "filtered_stocks = get_stock_data(nifty_500_symbols)\n",
        "\n",
        "# Display results\n",
        "print(\"NIFTY 500 Stocks with percentage difference < 0.70%:\")\n",
        "print(filtered_stocks)\n"
      ]
    }
  ]
}