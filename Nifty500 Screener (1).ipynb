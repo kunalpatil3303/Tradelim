{
 "cells": [
  {
   "cell_type": "code",
   "execution_count": 5,
   "id": "97d3dd80-c534-4b03-bb5e-e779f081e9dc",
   "metadata": {},
   "outputs": [
    {
     "name": "stdout",
     "output_type": "stream",
     "text": [
      "Requirement already satisfied: pandas in c:\\users\\kunal\\appdata\\roaming\\python\\python312\\site-packages (2.2.0)\n",
      "Requirement already satisfied: yfinance in c:\\users\\kunal\\anaconda3\\lib\\site-packages (0.2.54)\n",
      "Requirement already satisfied: numpy<2,>=1.26.0 in c:\\users\\kunal\\appdata\\roaming\\python\\python312\\site-packages (from pandas) (1.26.4)\n",
      "Requirement already satisfied: python-dateutil>=2.8.2 in c:\\users\\kunal\\appdata\\roaming\\python\\python312\\site-packages (from pandas) (2.8.2)\n",
      "Requirement already satisfied: pytz>=2020.1 in c:\\users\\kunal\\appdata\\roaming\\python\\python312\\site-packages (from pandas) (2024.1)\n",
      "Requirement already satisfied: tzdata>=2022.7 in c:\\users\\kunal\\appdata\\roaming\\python\\python312\\site-packages (from pandas) (2023.4)\n",
      "Requirement already satisfied: requests>=2.31 in c:\\users\\kunal\\appdata\\roaming\\python\\python312\\site-packages (from yfinance) (2.31.0)\n",
      "Requirement already satisfied: multitasking>=0.0.7 in c:\\users\\kunal\\anaconda3\\lib\\site-packages (from yfinance) (0.0.11)\n",
      "Requirement already satisfied: platformdirs>=2.0.0 in c:\\users\\kunal\\appdata\\roaming\\python\\python312\\site-packages (from yfinance) (4.2.0)\n",
      "Requirement already satisfied: frozendict>=2.3.4 in c:\\users\\kunal\\anaconda3\\lib\\site-packages (from yfinance) (2.4.2)\n",
      "Requirement already satisfied: peewee>=3.16.2 in c:\\users\\kunal\\anaconda3\\lib\\site-packages (from yfinance) (3.17.9)\n",
      "Requirement already satisfied: beautifulsoup4>=4.11.1 in c:\\users\\kunal\\appdata\\roaming\\python\\python312\\site-packages (from yfinance) (4.12.3)\n",
      "Requirement already satisfied: soupsieve>1.2 in c:\\users\\kunal\\appdata\\roaming\\python\\python312\\site-packages (from beautifulsoup4>=4.11.1->yfinance) (2.5)\n",
      "Requirement already satisfied: six>=1.5 in c:\\users\\kunal\\appdata\\roaming\\python\\python312\\site-packages (from python-dateutil>=2.8.2->pandas) (1.16.0)\n",
      "Requirement already satisfied: charset-normalizer<4,>=2 in c:\\users\\kunal\\appdata\\roaming\\python\\python312\\site-packages (from requests>=2.31->yfinance) (3.3.2)\n",
      "Requirement already satisfied: idna<4,>=2.5 in c:\\users\\kunal\\appdata\\roaming\\python\\python312\\site-packages (from requests>=2.31->yfinance) (3.6)\n",
      "Requirement already satisfied: urllib3<3,>=1.21.1 in c:\\users\\kunal\\appdata\\roaming\\python\\python312\\site-packages (from requests>=2.31->yfinance) (2.2.0)\n",
      "Requirement already satisfied: certifi>=2017.4.17 in c:\\users\\kunal\\appdata\\roaming\\python\\python312\\site-packages (from requests>=2.31->yfinance) (2024.2.2)\n",
      "Note: you may need to restart the kernel to use updated packages.\n"
     ]
    }
   ],
   "source": [
    "pip install pandas yfinance\n"
   ]
  },
  {
   "cell_type": "code",
   "execution_count": 11,
   "id": "70662134-c252-4e9b-9b13-75ba70b705af",
   "metadata": {},
   "outputs": [
    {
     "name": "stderr",
     "output_type": "stream",
     "text": [
      "$PHOENIXLTD.NS: possibly delisted; no price data found  (period=1d)\n"
     ]
    },
    {
     "name": "stdout",
     "output_type": "stream",
     "text": [
      "NIFTY 500 Stocks with percentage difference < 1.0%:\n",
      "Empty DataFrame\n",
      "Columns: []\n",
      "Index: []\n"
     ]
    }
   ],
   "source": [
    "import pandas as pd\n",
    "import yfinance as yf\n",
    "\n",
    "# Load NIFTY 500 stock symbols (you can replace this with an updated list)\n",
    "nifty_500_symbols = pd.read_csv('https://archives.nseindia.com/content/indices/ind_nifty500list.csv')['Symbol'].tolist()\n",
    "\n",
    "# Function to fetch daily high & low prices\n",
    "def get_stock_data(symbols):\n",
    "    stock_data = []\n",
    "    for symbol in symbols:\n",
    "        try:\n",
    "            stock = yf.Ticker(symbol + \".NS\")  # Adding .NS for NSE stocks\n",
    "            df = stock.history(period=\"1d\")  # Fetching daily data\n",
    "            \n",
    "            if not df.empty:\n",
    "                high, low = df['High'].iloc[-1], df['Low'].iloc[-1]\n",
    "                percentage_diff = ((high - low) / low) * 100\n",
    "                \n",
    "                if percentage_diff < 1.0:\n",
    "                    stock_data.append({\"symbol\": symbol, \"high\": high, \"low\": low, \"percentage_diff\": percentage_diff})\n",
    "        except Exception as e:\n",
    "            print(f\"Error fetching data for {symbol}: {e}\")\n",
    "    \n",
    "    return pd.DataFrame(stock_data)\n",
    "\n",
    "# Fetch and filter stocks\n",
    "filtered_stocks = get_stock_data(nifty_500_symbols)\n",
    "\n",
    "# Display results\n",
    "print(\"NIFTY 500 Stocks with percentage difference < 1.0%:\")\n",
    "print(filtered_stocks)\n"
   ]
  }
 ],
 "metadata": {
  "kernelspec": {
   "display_name": "Python 3 (ipykernel)",
   "language": "python",
   "name": "python3"
  },
  "language_info": {
   "codemirror_mode": {
    "name": "ipython",
    "version": 3
   },
   "file_extension": ".py",
   "mimetype": "text/x-python",
   "name": "python",
   "nbconvert_exporter": "python",
   "pygments_lexer": "ipython3",
   "version": "3.12.7"
  }
 },
 "nbformat": 4,
 "nbformat_minor": 5
}
